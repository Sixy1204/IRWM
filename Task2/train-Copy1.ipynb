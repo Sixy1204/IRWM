{
 "cells": [
  {
   "cell_type": "code",
   "execution_count": 1,
   "metadata": {},
   "outputs": [],
   "source": [
    "import warnings\n",
    "warnings.filterwarnings('ignore')"
   ]
  },
  {
   "cell_type": "code",
   "execution_count": 2,
   "metadata": {},
   "outputs": [],
   "source": [
    "import torch\n",
    "import torch.optim as optim\n",
    "from torch.utils.data import DataLoader, SubsetRandomSampler"
   ]
  },
  {
   "cell_type": "code",
   "execution_count": 3,
   "metadata": {},
   "outputs": [],
   "source": [
    "import numpy as np\n",
    "import os\n",
    "import random\n",
    "import pandas as pd"
   ]
  },
  {
   "cell_type": "code",
   "execution_count": 4,
   "metadata": {},
   "outputs": [],
   "source": [
    "from Dataset import Data\n",
    "from bprModel import BPR"
   ]
  },
  {
   "cell_type": "code",
   "execution_count": 5,
   "metadata": {},
   "outputs": [],
   "source": [
    "def load_data():    \n",
    "    df = pd.read_csv('train.csv')\n",
    "    user_items = {}\n",
    "    itemId_max=[]\n",
    "    for i,row in df.iterrows():\n",
    "        user = int(row[0])\n",
    "        user_items[user] = [int(x) for x in row[1].split()]\n",
    "        itemId_max.append(max(user_items[user]))\n",
    "    num_users = max(user_items.keys())+1\n",
    "    num_items = max(itemId_max)+1\n",
    "    return num_users, num_items, user_items"
   ]
  },
  {
   "cell_type": "code",
   "execution_count": 6,
   "metadata": {},
   "outputs": [],
   "source": [
    "def train(loader, model, optimizer, epochs, batch_size, device):\n",
    "\n",
    "    #total_loss = 0.0\n",
    "    #batch_count = 0\n",
    "\n",
    "    for epoch in range(epochs):\n",
    "        train_loss = []\n",
    "        val_loss = []\n",
    "        for phase in ['train', 'val']:\n",
    "            if phase == 'train':\n",
    "                model.train(True)  \n",
    "            else:\n",
    "                model.train(False)  \n",
    "            \n",
    "            model.to(device)\n",
    "            data_loaders[phase].dataset.get_neg()\n",
    "            for batch, (batch_u, batch_i, batch_j) in enumerate(data_loaders[phase]):\n",
    "                \n",
    "                batch_u = batch_u.to(device)\n",
    "                batch_i = batch_i.to(device)\n",
    "                batch_j = batch_j.to(device)\n",
    "            \n",
    "                loss = model(batch_u, batch_i, batch_j)\n",
    "                \n",
    "                optimizer.zero_grad()\n",
    "                if phase == 'train':\n",
    "                    loss.backward()\n",
    "                    optimizer.step()\n",
    "                    train_loss.append(loss.data)\n",
    "                else:\n",
    "                    val_loss.append(loss.data)\n",
    "                \n",
    "                #batch_count += 1\n",
    "                #total_loss += loss.data\n",
    "\n",
    "                #avg_loss = total_loss / batch_count\n",
    "            \n",
    "            \n",
    "        print(f\"Training Epoch : {epoch} | Train Loss = {np.mean(train_loss)/batch_size:.4f} | Val Loss = {np.mean(val_loss)/batch_size:.4f}\\n\")\n",
    "                       "
   ]
  },
  {
   "cell_type": "code",
   "execution_count": 7,
   "metadata": {},
   "outputs": [],
   "source": [
    "user_size, item_size,user_items = load_data()"
   ]
  },
  {
   "cell_type": "code",
   "execution_count": 8,
   "metadata": {},
   "outputs": [],
   "source": [
    "batch_size = 3000\n",
    "epochs = 3\n",
    "embedding_size = 128"
   ]
  },
  {
   "cell_type": "code",
   "execution_count": 9,
   "metadata": {
    "scrolled": true
   },
   "outputs": [],
   "source": [
    "dataset = Data(user_size, item_size, user_items)\n",
    "validation_split = 0.1\n",
    "shuffle_dataset = True\n",
    "\n",
    "dataset_size = len(dataset)\n",
    "indices = list(range(dataset_size))\n",
    "split = int(np.floor(validation_split * dataset_size))\n",
    "if shuffle_dataset :\n",
    "    np.random.seed(233)\n",
    "    np.random.shuffle(indices)\n",
    "train_indices, val_indices = indices[split:], indices[:split]\n",
    "\n",
    "# Creating PT data samplers and loaders:\n",
    "train_sampler = SubsetRandomSampler(train_indices)\n",
    "valid_sampler = SubsetRandomSampler(val_indices)\n",
    "\n",
    "train_loader = torch.utils.data.DataLoader(dataset, batch_size=batch_size, \n",
    "                                           sampler=train_sampler)\n",
    "validation_loader = torch.utils.data.DataLoader(dataset, batch_size=batch_size,\n",
    "                                                sampler=valid_sampler)\n",
    "data_loaders = {\"train\": train_loader, \"val\": validation_loader}\n",
    "data_lengths = {\"train\": len(train_indices), \"val\": len(val_indices)}"
   ]
  },
  {
   "cell_type": "code",
   "execution_count": 10,
   "metadata": {},
   "outputs": [],
   "source": [
    "use_cuda = torch.cuda.is_available()\n",
    "device = torch.device(\"cuda:0\" if use_cuda else \"cpu\")"
   ]
  },
  {
   "cell_type": "code",
   "execution_count": 11,
   "metadata": {},
   "outputs": [],
   "source": [
    "model = BPR(user_size, item_size, embedding_size, batch_size, device)"
   ]
  },
  {
   "cell_type": "code",
   "execution_count": 12,
   "metadata": {},
   "outputs": [],
   "source": [
    "optimizer = optim.Adam(model.parameters(), lr=0.001, weight_decay=0.0001)"
   ]
  },
  {
   "cell_type": "code",
   "execution_count": 13,
   "metadata": {},
   "outputs": [
    {
     "name": "stdout",
     "output_type": "stream",
     "text": [
      "Training Epoch : 0 | Train Loss = 0.6862 | Val Loss = 0.6164\n",
      "\n",
      "Training Epoch : 1 | Train Loss = 0.5024 | Val Loss = 0.3529\n",
      "\n",
      "Training Epoch : 2 | Train Loss = 0.3383 | Val Loss = 0.2988\n",
      "\n"
     ]
    }
   ],
   "source": [
    "train(data_loaders, model, optimizer, epochs, batch_size, device)"
   ]
  },
  {
   "cell_type": "code",
   "execution_count": 14,
   "metadata": {},
   "outputs": [],
   "source": [
    "w = list(model.parameters())"
   ]
  },
  {
   "cell_type": "code",
   "execution_count": 15,
   "metadata": {
    "scrolled": true
   },
   "outputs": [],
   "source": [
    "user = w[0].detach().numpy()"
   ]
  },
  {
   "cell_type": "code",
   "execution_count": 16,
   "metadata": {},
   "outputs": [],
   "source": [
    "item =  w[1].detach().numpy()"
   ]
  },
  {
   "cell_type": "code",
   "execution_count": 17,
   "metadata": {},
   "outputs": [],
   "source": [
    "interaction = np.dot(user,item.T)"
   ]
  },
  {
   "cell_type": "code",
   "execution_count": 18,
   "metadata": {},
   "outputs": [],
   "source": [
    "predict = pd.DataFrame(columns=['UserId','ItemId'])"
   ]
  },
  {
   "cell_type": "code",
   "execution_count": 19,
   "metadata": {},
   "outputs": [],
   "source": [
    "for uid, items in enumerate(interaction):\n",
    "    for i in user_items[uid]:\n",
    "        items[i] = -99\n",
    "    topk = np.argsort(-items)[:50]\n",
    "    predict.loc[uid,'UserId'] = uid\n",
    "    predict.loc[uid,'ItemId'] = ' '.join([str(x) for x in topk])"
   ]
  },
  {
   "cell_type": "code",
   "execution_count": 20,
   "metadata": {
    "scrolled": true
   },
   "outputs": [
    {
     "data": {
      "text/plain": [
       "UserId                                                    0\n",
       "ItemId    1575 2022 2885 865 2320 2470 465 1770 2726 118...\n",
       "Name: 0, dtype: object"
      ]
     },
     "execution_count": 20,
     "metadata": {},
     "output_type": "execute_result"
    }
   ],
   "source": [
    "predict.iloc[0]"
   ]
  },
  {
   "cell_type": "code",
   "execution_count": 21,
   "metadata": {},
   "outputs": [
    {
     "data": {
      "text/plain": [
       "(4454, 2)"
      ]
     },
     "execution_count": 21,
     "metadata": {},
     "output_type": "execute_result"
    }
   ],
   "source": [
    "predict.shape"
   ]
  },
  {
   "cell_type": "code",
   "execution_count": 22,
   "metadata": {},
   "outputs": [],
   "source": [
    "predict.to_csv('submit_612.csv',index = 0)"
   ]
  }
 ],
 "metadata": {
  "kernelspec": {
   "display_name": "Python 3",
   "language": "python",
   "name": "python3"
  },
  "language_info": {
   "codemirror_mode": {
    "name": "ipython",
    "version": 3
   },
   "file_extension": ".py",
   "mimetype": "text/x-python",
   "name": "python",
   "nbconvert_exporter": "python",
   "pygments_lexer": "ipython3",
   "version": "3.6.10"
  }
 },
 "nbformat": 4,
 "nbformat_minor": 4
}
