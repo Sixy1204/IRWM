{
 "cells": [
  {
   "cell_type": "code",
   "execution_count": 12,
   "metadata": {},
   "outputs": [],
   "source": [
    "import warnings\n",
    "warnings.filterwarnings('ignore')"
   ]
  },
  {
   "cell_type": "code",
   "execution_count": 179,
   "metadata": {},
   "outputs": [],
   "source": [
    "import pandas as pd\n",
    "import numpy as np\n",
    "import random\n",
    "from keras.layers import Input, Embedding, Dot, Reshape, Dense, BatchNormalization, Dropout\n",
    "from keras.models import Model"
   ]
  },
  {
   "cell_type": "code",
   "execution_count": 14,
   "metadata": {},
   "outputs": [],
   "source": [
    "df = pd.read_csv('train.csv')"
   ]
  },
  {
   "cell_type": "code",
   "execution_count": 15,
   "metadata": {},
   "outputs": [],
   "source": [
    "user_item = pd.DataFrame(columns=['UserId','ItemId'])"
   ]
  },
  {
   "cell_type": "code",
   "execution_count": 16,
   "metadata": {},
   "outputs": [],
   "source": [
    "itemId_max=[]\n",
    "for i,row in df.iterrows():\n",
    "        user_item.loc[i,'UserId'] = int(row[0])\n",
    "        user_item.loc[i,'ItemId'] = [int(x) for x in row[1].split()]\n",
    "        itemId_max.append(max(user_item.loc[i,'ItemId']))"
   ]
  },
  {
   "cell_type": "code",
   "execution_count": 17,
   "metadata": {
    "scrolled": true
   },
   "outputs": [],
   "source": [
    "num_users = max(user_item['UserId']) + 1\n",
    "num_items = max(itemId_max) + 1"
   ]
  },
  {
   "cell_type": "code",
   "execution_count": 18,
   "metadata": {
    "scrolled": true
   },
   "outputs": [
    {
     "name": "stdout",
     "output_type": "stream",
     "text": [
      "4454 3260\n"
     ]
    }
   ],
   "source": [
    "print(num_users,num_items)"
   ]
  },
  {
   "cell_type": "code",
   "execution_count": 19,
   "metadata": {},
   "outputs": [],
   "source": [
    "'''\n",
    "sample positive pairs (uid, item_pos)in a list\n",
    "'''\n",
    "def create_pairs(user_item, uid):\n",
    "    pairs = []\n",
    "    def u2i(pairs, x):\n",
    "        for index in x[\"ItemId\"]:\n",
    "            pairs.append((uid[x[\"UserId\"]], index))\n",
    "    user_item.apply(lambda x: u2i(pairs, x), axis=1) \n",
    "    return pairs"
   ]
  },
  {
   "cell_type": "code",
   "execution_count": 20,
   "metadata": {},
   "outputs": [],
   "source": [
    "pairs = create_pairs(user_item, user_item['UserId'])"
   ]
  },
  {
   "cell_type": "code",
   "execution_count": 177,
   "metadata": {
    "scrolled": true
   },
   "outputs": [],
   "source": [
    "def embedding_model(d):\n",
    "    user = Input(name = 'user', shape = [None,])    \n",
    "    user_embedding = Embedding(name = 'user_embedding',\n",
    "                               input_dim = num_users,\n",
    "                               output_dim = d, input_length = 1, \n",
    "                               embedding_constraint=non_neg())(user)\n",
    "    Dropout(0.2)\n",
    "    user_embedding = BatchNormalizetion()(user_embedding)\n",
    "    user_embedding = Reshape((d,))(user_embedding)\n",
    "    \n",
    "    item = Input(name = 'item', shape = [None,])\n",
    "    item_embedding = Embedding(name = 'item_embedding',\n",
    "                               input_dim = num_items,\n",
    "                               output_dim = d, input_length = 1,\n",
    "                            embeddings_constraint=non_neg())(item)\n",
    "    Dropout(0.2)\n",
    "    item_embedding = BatchNormalizetion()(item_embedding)\n",
    "    item_embedding = Reshape((d,))(item_embedding)\n",
    "    \n",
    "    merged = Dot(name = 'dot_product',axes = 2)([user_embedding, item_embedding])\n",
    "\n",
    "    merged = Reshape(target_shape = [1])(merged)\n",
    "    \n",
    "    out = Dense(1, activation = 'sigmoid')(merged)\n",
    "    model = Model(inputs = [user, item], outputs = out)\n",
    "    \n",
    "    model.compile(optimizer = 'sgd', loss = 'binary_crossentropy', \n",
    "                  metrics = ['accuracy'])\n",
    "    return model"
   ]
  },
  {
   "cell_type": "code",
   "execution_count": 157,
   "metadata": {},
   "outputs": [],
   "source": [
    "model = embedding_model(d = 128)"
   ]
  },
  {
   "cell_type": "code",
   "execution_count": 166,
   "metadata": {},
   "outputs": [],
   "source": [
    "def generate_batch(pairs, n_positive = 50, negative_ratio = 1.0):\n",
    "    batch_size = n_positive * (1 + negative_ratio)\n",
    "    batch = np.zeros((batch_size, 3))\n",
    "    \n",
    "    while True:\n",
    "        # Randomly choose positive examples\n",
    "        for idx, (uid, item) in enumerate(random.sample(pairs, n_positive)):\n",
    "            batch[idx, :] = (uid, item, 1)\n",
    "        idx += 1\n",
    "        \n",
    "        while idx < batch_size:\n",
    "            random_user = random.randrange(num_users)\n",
    "            random_item = random.randrange(num_items)\n",
    "            # Check \n",
    "            if (random_user, random_item) not in pairs:\n",
    "                batch[idx, :] = (random_user, random_item, 0)\n",
    "                idx += 1\n",
    "                \n",
    "        # Make sure to shuffle order\n",
    "        np.random.shuffle(batch)\n",
    "        yield {'user': batch[:, 0], 'item': batch[:, 1]}, batch[:, 2]\n",
    "        \n",
    "        \n",
    "n_positive = 50\n",
    "gen = generate_batch(pairs, n_positive, negative_ratio = 1)"
   ]
  },
  {
   "cell_type": "code",
   "execution_count": 168,
   "metadata": {},
   "outputs": [
    {
     "name": "stdout",
     "output_type": "stream",
     "text": [
      "Epoch 1/100\n",
      "20/20 [==============================] - 6s 313ms/step - loss: 0.6577 - acc: 0.7460\n",
      "Epoch 2/100\n",
      "20/20 [==============================] - 6s 308ms/step - loss: 0.6550 - acc: 0.7385\n",
      "Epoch 3/100\n",
      "20/20 [==============================] - 6s 313ms/step - loss: 0.6491 - acc: 0.7480\n",
      "Epoch 4/100\n",
      "20/20 [==============================] - 6s 308ms/step - loss: 0.6485 - acc: 0.7375\n",
      "Epoch 5/100\n",
      "20/20 [==============================] - 6s 306ms/step - loss: 0.6436 - acc: 0.7430\n",
      "Epoch 6/100\n",
      "20/20 [==============================] - 6s 308ms/step - loss: 0.6423 - acc: 0.7330\n",
      "Epoch 7/100\n",
      "20/20 [==============================] - 6s 308ms/step - loss: 0.6353 - acc: 0.7475\n",
      "Epoch 8/100\n",
      "20/20 [==============================] - 6s 306ms/step - loss: 0.6319 - acc: 0.7480\n",
      "Epoch 9/100\n",
      "20/20 [==============================] - 6s 306ms/step - loss: 0.6277 - acc: 0.7500\n",
      "Epoch 10/100\n",
      "20/20 [==============================] - 6s 305ms/step - loss: 0.6251 - acc: 0.7485\n",
      "Epoch 11/100\n",
      "20/20 [==============================] - 6s 303ms/step - loss: 0.6244 - acc: 0.7420\n",
      "Epoch 12/100\n",
      "20/20 [==============================] - 6s 309ms/step - loss: 0.6198 - acc: 0.7460\n",
      "Epoch 13/100\n",
      "20/20 [==============================] - 6s 308ms/step - loss: 0.6167 - acc: 0.7455\n",
      "Epoch 14/100\n",
      "20/20 [==============================] - 6s 303ms/step - loss: 0.6168 - acc: 0.7375\n",
      "Epoch 15/100\n",
      "20/20 [==============================] - 6s 306ms/step - loss: 0.6103 - acc: 0.7450\n",
      "Epoch 16/100\n",
      "20/20 [==============================] - 6s 307ms/step - loss: 0.6118 - acc: 0.7370\n",
      "Epoch 17/100\n",
      "20/20 [==============================] - 6s 304ms/step - loss: 0.6075 - acc: 0.7425\n",
      "Epoch 18/100\n",
      "20/20 [==============================] - 6s 306ms/step - loss: 0.6022 - acc: 0.7480\n",
      "Epoch 19/100\n",
      "20/20 [==============================] - 6s 303ms/step - loss: 0.5996 - acc: 0.7475\n",
      "Epoch 20/100\n",
      "20/20 [==============================] - 6s 308ms/step - loss: 0.5976 - acc: 0.7440\n",
      "Epoch 21/100\n",
      "20/20 [==============================] - 6s 305ms/step - loss: 0.5978 - acc: 0.7390\n",
      "Epoch 22/100\n",
      "20/20 [==============================] - 6s 304ms/step - loss: 0.5906 - acc: 0.7480\n",
      "Epoch 23/100\n",
      "20/20 [==============================] - 6s 303ms/step - loss: 0.5906 - acc: 0.7455\n",
      "Epoch 24/100\n",
      "20/20 [==============================] - 6s 304ms/step - loss: 0.5855 - acc: 0.7470\n",
      "Epoch 25/100\n",
      "20/20 [==============================] - 6s 307ms/step - loss: 0.5906 - acc: 0.7350\n",
      "Epoch 26/100\n",
      "20/20 [==============================] - 6s 308ms/step - loss: 0.5863 - acc: 0.7385\n",
      "Epoch 27/100\n",
      "20/20 [==============================] - 6s 307ms/step - loss: 0.5834 - acc: 0.7370\n",
      "Epoch 28/100\n",
      "20/20 [==============================] - 6s 307ms/step - loss: 0.5835 - acc: 0.7350\n",
      "Epoch 29/100\n",
      "20/20 [==============================] - 6s 304ms/step - loss: 0.5751 - acc: 0.7460\n",
      "Epoch 30/100\n",
      "20/20 [==============================] - 6s 305ms/step - loss: 0.5699 - acc: 0.7505\n",
      "Epoch 31/100\n",
      "20/20 [==============================] - 6s 307ms/step - loss: 0.5666 - acc: 0.7470\n",
      "Epoch 32/100\n",
      "20/20 [==============================] - 6s 302ms/step - loss: 0.5633 - acc: 0.7445\n",
      "Epoch 33/100\n",
      "20/20 [==============================] - 6s 304ms/step - loss: 0.5614 - acc: 0.7450\n",
      "Epoch 34/100\n",
      "20/20 [==============================] - 6s 302ms/step - loss: 0.5582 - acc: 0.7420\n",
      "Epoch 35/100\n",
      "20/20 [==============================] - 6s 302ms/step - loss: 0.5629 - acc: 0.7345\n",
      "Epoch 36/100\n",
      "20/20 [==============================] - 6s 307ms/step - loss: 0.5520 - acc: 0.7435\n",
      "Epoch 37/100\n",
      "20/20 [==============================] - 6s 301ms/step - loss: 0.5560 - acc: 0.7365\n",
      "Epoch 38/100\n",
      "20/20 [==============================] - 6s 305ms/step - loss: 0.5497 - acc: 0.7410\n",
      "Epoch 39/100\n",
      "20/20 [==============================] - 6s 306ms/step - loss: 0.5395 - acc: 0.7455\n",
      "Epoch 40/100\n",
      "20/20 [==============================] - 6s 314ms/step - loss: 0.5421 - acc: 0.7395\n",
      "Epoch 41/100\n",
      "20/20 [==============================] - 6s 316ms/step - loss: 0.5279 - acc: 0.7505\n",
      "Epoch 42/100\n",
      "20/20 [==============================] - 7s 325ms/step - loss: 0.5332 - acc: 0.7410\n",
      "Epoch 43/100\n",
      "20/20 [==============================] - 6s 309ms/step - loss: 0.5302 - acc: 0.7385\n",
      "Epoch 44/100\n",
      "20/20 [==============================] - 7s 335ms/step - loss: 0.5263 - acc: 0.7430\n",
      "Epoch 45/100\n",
      "20/20 [==============================] - 6s 309ms/step - loss: 0.5077 - acc: 0.7565\n",
      "Epoch 46/100\n",
      "20/20 [==============================] - 6s 310ms/step - loss: 0.5149 - acc: 0.7435\n",
      "Epoch 47/100\n",
      "20/20 [==============================] - 6s 313ms/step - loss: 0.5203 - acc: 0.7360\n",
      "Epoch 48/100\n",
      "20/20 [==============================] - 6s 312ms/step - loss: 0.5053 - acc: 0.7485\n",
      "Epoch 49/100\n",
      "20/20 [==============================] - 6s 310ms/step - loss: 0.5000 - acc: 0.7515\n",
      "Epoch 50/100\n",
      "20/20 [==============================] - 6s 319ms/step - loss: 0.4967 - acc: 0.7535\n",
      "Epoch 51/100\n",
      "20/20 [==============================] - 6s 311ms/step - loss: 0.5001 - acc: 0.7475\n",
      "Epoch 52/100\n",
      "20/20 [==============================] - 6s 303ms/step - loss: 0.4932 - acc: 0.7490\n",
      "Epoch 53/100\n",
      "20/20 [==============================] - 6s 309ms/step - loss: 0.4967 - acc: 0.7465\n",
      "Epoch 54/100\n",
      "20/20 [==============================] - 6s 303ms/step - loss: 0.4793 - acc: 0.7535\n",
      "Epoch 55/100\n",
      "20/20 [==============================] - 6s 306ms/step - loss: 0.4837 - acc: 0.7560\n",
      "Epoch 56/100\n",
      "20/20 [==============================] - 6s 310ms/step - loss: 0.4878 - acc: 0.7450\n",
      "Epoch 57/100\n",
      "20/20 [==============================] - 6s 309ms/step - loss: 0.4797 - acc: 0.7525\n",
      "Epoch 58/100\n",
      "20/20 [==============================] - 6s 307ms/step - loss: 0.4769 - acc: 0.7525\n",
      "Epoch 59/100\n",
      "20/20 [==============================] - 6s 309ms/step - loss: 0.4885 - acc: 0.7410\n",
      "Epoch 60/100\n",
      "20/20 [==============================] - 6s 318ms/step - loss: 0.4775 - acc: 0.7555\n",
      "Epoch 61/100\n",
      "20/20 [==============================] - 6s 309ms/step - loss: 0.4748 - acc: 0.7460\n",
      "Epoch 62/100\n",
      "20/20 [==============================] - 6s 308ms/step - loss: 0.4681 - acc: 0.7500\n",
      "Epoch 63/100\n",
      "20/20 [==============================] - 6s 306ms/step - loss: 0.4707 - acc: 0.7520\n",
      "Epoch 64/100\n",
      "20/20 [==============================] - 6s 303ms/step - loss: 0.4789 - acc: 0.7440\n",
      "Epoch 65/100\n",
      "20/20 [==============================] - 6s 301ms/step - loss: 0.4755 - acc: 0.7475\n",
      "Epoch 66/100\n",
      "20/20 [==============================] - 6s 309ms/step - loss: 0.4655 - acc: 0.7505\n",
      "Epoch 67/100\n",
      "20/20 [==============================] - 6s 306ms/step - loss: 0.4568 - acc: 0.7640\n",
      "Epoch 68/100\n",
      "20/20 [==============================] - 6s 319ms/step - loss: 0.4614 - acc: 0.7620\n",
      "Epoch 69/100\n",
      "20/20 [==============================] - 7s 328ms/step - loss: 0.4647 - acc: 0.7520\n",
      "Epoch 70/100\n",
      "20/20 [==============================] - 6s 310ms/step - loss: 0.4532 - acc: 0.7680\n",
      "Epoch 71/100\n",
      "20/20 [==============================] - 6s 314ms/step - loss: 0.4460 - acc: 0.7685\n",
      "Epoch 72/100\n",
      "20/20 [==============================] - 6s 311ms/step - loss: 0.4425 - acc: 0.7790\n",
      "Epoch 73/100\n",
      "20/20 [==============================] - 6s 311ms/step - loss: 0.4544 - acc: 0.7645\n",
      "Epoch 74/100\n",
      "20/20 [==============================] - 6s 309ms/step - loss: 0.4472 - acc: 0.7715\n",
      "Epoch 75/100\n",
      "20/20 [==============================] - 6s 305ms/step - loss: 0.4489 - acc: 0.7695\n",
      "Epoch 76/100\n",
      "20/20 [==============================] - 6s 311ms/step - loss: 0.4430 - acc: 0.7740\n",
      "Epoch 77/100\n",
      "20/20 [==============================] - 6s 308ms/step - loss: 0.4600 - acc: 0.7755\n",
      "Epoch 78/100\n",
      "20/20 [==============================] - 6s 304ms/step - loss: 0.4375 - acc: 0.7860\n",
      "Epoch 79/100\n",
      "20/20 [==============================] - 6s 307ms/step - loss: 0.4349 - acc: 0.7890\n",
      "Epoch 80/100\n",
      "20/20 [==============================] - 6s 307ms/step - loss: 0.4336 - acc: 0.7825\n",
      "Epoch 81/100\n",
      "20/20 [==============================] - 6s 307ms/step - loss: 0.4313 - acc: 0.7895\n",
      "Epoch 82/100\n",
      "20/20 [==============================] - 6s 307ms/step - loss: 0.4432 - acc: 0.7800\n",
      "Epoch 83/100\n",
      "20/20 [==============================] - 6s 309ms/step - loss: 0.4270 - acc: 0.7935\n",
      "Epoch 84/100\n",
      "20/20 [==============================] - 6s 319ms/step - loss: 0.4309 - acc: 0.7920\n",
      "Epoch 85/100\n",
      "20/20 [==============================] - 6s 310ms/step - loss: 0.4274 - acc: 0.7920\n",
      "Epoch 86/100\n",
      "20/20 [==============================] - 6s 309ms/step - loss: 0.4402 - acc: 0.7960\n",
      "Epoch 87/100\n",
      "20/20 [==============================] - 6s 307ms/step - loss: 0.4285 - acc: 0.7990\n",
      "Epoch 88/100\n",
      "20/20 [==============================] - 6s 307ms/step - loss: 0.4423 - acc: 0.7920\n",
      "Epoch 89/100\n",
      "20/20 [==============================] - 6s 308ms/step - loss: 0.4283 - acc: 0.8010\n",
      "Epoch 90/100\n",
      "20/20 [==============================] - 6s 308ms/step - loss: 0.4377 - acc: 0.7905\n",
      "Epoch 91/100\n",
      "20/20 [==============================] - 6s 303ms/step - loss: 0.4046 - acc: 0.8170\n",
      "Epoch 92/100\n",
      "20/20 [==============================] - 6s 307ms/step - loss: 0.4323 - acc: 0.7945\n",
      "Epoch 93/100\n",
      "20/20 [==============================] - 6s 310ms/step - loss: 0.4318 - acc: 0.8010\n",
      "Epoch 94/100\n",
      "20/20 [==============================] - 6s 304ms/step - loss: 0.4330 - acc: 0.7915\n",
      "Epoch 95/100\n",
      "20/20 [==============================] - 6s 305ms/step - loss: 0.4098 - acc: 0.8135\n",
      "Epoch 96/100\n",
      "20/20 [==============================] - 6s 302ms/step - loss: 0.4363 - acc: 0.7940\n",
      "Epoch 97/100\n",
      "20/20 [==============================] - 6s 308ms/step - loss: 0.4239 - acc: 0.7965\n",
      "Epoch 98/100\n",
      "20/20 [==============================] - 6s 303ms/step - loss: 0.4065 - acc: 0.8105\n",
      "Epoch 99/100\n",
      "20/20 [==============================] - 6s 308ms/step - loss: 0.4156 - acc: 0.8125\n",
      "Epoch 100/100\n",
      "20/20 [==============================] - 6s 308ms/step - loss: 0.4277 - acc: 0.8050\n"
     ]
    }
   ],
   "source": [
    "h = model.fit_generator(gen, epochs = 100, steps_per_epoch = 20)"
   ]
  },
  {
   "cell_type": "code",
   "execution_count": 185,
   "metadata": {
    "scrolled": true
   },
   "outputs": [],
   "source": [
    "# Extract embeddings\n",
    "user_layer = model.get_layer('user_embedding')\n",
    "user_weights = user_layer.get_weights()[0]\n",
    "\n",
    "item_layer = model.get_layer('item_embedding')\n",
    "item_weights = item_layer.get_weights()[0]"
   ]
  },
  {
   "cell_type": "code",
   "execution_count": 186,
   "metadata": {},
   "outputs": [
    {
     "data": {
      "text/plain": [
       "(64, 3260)"
      ]
     },
     "execution_count": 186,
     "metadata": {},
     "output_type": "execute_result"
    }
   ],
   "source": [
    "item_weights.transpose().shape"
   ]
  },
  {
   "cell_type": "code",
   "execution_count": 187,
   "metadata": {},
   "outputs": [],
   "source": [
    "interaction = np.dot(user_weights , (item_weights.transpose()))"
   ]
  },
  {
   "cell_type": "code",
   "execution_count": 188,
   "metadata": {
    "scrolled": true
   },
   "outputs": [
    {
     "data": {
      "text/plain": [
       "array([[ 0.01120719, -0.00746568, -0.0018558 , ...,  0.01073264,\n",
       "        -0.00122674, -0.00085257],\n",
       "       [-0.01111018, -0.00301666,  0.01529985, ..., -0.01552236,\n",
       "         0.00479521, -0.00679149],\n",
       "       [ 0.003576  , -0.01293721, -0.00504763, ...,  0.01381103,\n",
       "        -0.00120778,  0.00075167],\n",
       "       ...,\n",
       "       [ 0.00670452,  0.02049342,  0.0004959 , ..., -0.01606832,\n",
       "         0.00843401, -0.00921321],\n",
       "       [ 0.00842183, -0.01000228, -0.00532983, ...,  0.0002222 ,\n",
       "        -0.00259108, -0.01552451],\n",
       "       [ 0.01696286, -0.00850848, -0.00814447, ..., -0.01213065,\n",
       "        -0.01251527,  0.01836075]], dtype=float32)"
      ]
     },
     "execution_count": 188,
     "metadata": {},
     "output_type": "execute_result"
    }
   ],
   "source": [
    "interaction"
   ]
  },
  {
   "cell_type": "code",
   "execution_count": 189,
   "metadata": {},
   "outputs": [],
   "source": [
    "predict = pd.DataFrame(columns=['UserId','ItemId'])"
   ]
  },
  {
   "cell_type": "code",
   "execution_count": 190,
   "metadata": {},
   "outputs": [],
   "source": [
    "for uid, items in enumerate(interaction):\n",
    "    for i in user_item.iloc[uid][1]:\n",
    "        items[i] = -99\n",
    "    topk = np.argsort(-items)[:50]\n",
    "    predict.loc[uid,'UserId'] = uid\n",
    "    predict.loc[uid,'ItemId'] = ' '.join([str(x) for x in topk])"
   ]
  },
  {
   "cell_type": "code",
   "execution_count": 191,
   "metadata": {},
   "outputs": [],
   "source": [
    "predict.to_csv('submit.csv',index = 0)"
   ]
  },
  {
   "cell_type": "code",
   "execution_count": 192,
   "metadata": {},
   "outputs": [
    {
     "data": {
      "text/plain": [
       "(4454, 2)"
      ]
     },
     "execution_count": 192,
     "metadata": {},
     "output_type": "execute_result"
    }
   ],
   "source": [
    "predict.shape"
   ]
  }
 ],
 "metadata": {
  "kernelspec": {
   "display_name": "Python 3",
   "language": "python",
   "name": "python3"
  },
  "language_info": {
   "codemirror_mode": {
    "name": "ipython",
    "version": 3
   },
   "file_extension": ".py",
   "mimetype": "text/x-python",
   "name": "python",
   "nbconvert_exporter": "python",
   "pygments_lexer": "ipython3",
   "version": "3.6.10"
  }
 },
 "nbformat": 4,
 "nbformat_minor": 4
}
