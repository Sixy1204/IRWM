{
 "cells": [
  {
   "cell_type": "code",
   "execution_count": 2,
   "metadata": {},
   "outputs": [],
   "source": [
    "import numpy as np\n",
    "import pandas as pd\n",
    "import math\n",
    "import argparse\n",
    "from utiles import *\n",
    "from MAP import *"
   ]
  },
  {
   "cell_type": "code",
   "execution_count": 3,
   "metadata": {},
   "outputs": [
    {
     "name": "stderr",
     "output_type": "stream",
     "text": [
      "usage: ipykernel_launcher.py [-h] [-r] [-i I] [-o O] [-m M] [-d D]\n",
      "ipykernel_launcher.py: error: unrecognized arguments: -f C:\\Users\\xiaoy\\AppData\\Roaming\\jupyter\\runtime\\kernel-91a46be7-5cff-44b2-bd94-5a42855d9e96.json\n"
     ]
    },
    {
     "ename": "SystemExit",
     "evalue": "2",
     "output_type": "error",
     "traceback": [
      "An exception has occurred, use %tb to see the full traceback.\n",
      "\u001b[1;31mSystemExit\u001b[0m\u001b[1;31m:\u001b[0m 2\n"
     ]
    },
    {
     "name": "stderr",
     "output_type": "stream",
     "text": [
      "G:\\anaconda\\lib\\site-packages\\IPython\\core\\interactiveshell.py:3339: UserWarning: To exit: use 'exit', 'quit', or Ctrl-D.\n",
      "  warn(\"To exit: use 'exit', 'quit', or Ctrl-D.\", stacklevel=1)\n"
     ]
    }
   ],
   "source": [
    "parser = argparse.ArgumentParser(description='vsm')\n",
    "parser.add_argument(\"-r\", action=\"store_true\", default=False)\n",
    "parser.add_argument(\"-i\", default=\"../Query/query-test.xml\", type=str)\n",
    "parser.add_argument(\"-o\", default=\"../ranked-list.csv\", type=str)\n",
    "parser.add_argument(\"-m\", default=\"../Model/\", type=str)\n",
    "parser.add_argument(\"-d\", default=\"../CIRB010/\", type=str)\n",
    "args = parser.parse_args()"
   ]
  },
  {
   "cell_type": "code",
   "execution_count": 46,
   "metadata": {},
   "outputs": [],
   "source": [
    "def vsm(qidx, weight=[], fb=False):\n",
    "    #計算query中的詞頻 qt={(v1,v2):qf,....}\n",
    "    search = query.iloc[qidx][\"title\"]+query.iloc[qidx][\"question\"]+query.iloc[qidx][\"narrative\"]+query.iloc[qidx][\"concepts\"]               \n",
    "    qt = {}\n",
    "    for i in range(len(search)-1):\n",
    "        term = (vocab_to_id[search[i]], vocab_to_id[search[i+1]])\n",
    "        if term not in inv:\n",
    "            continue\n",
    "        if term not in qt:\n",
    "            qt[term] = 1\n",
    "        else:\n",
    "            qt[term] += 1\n",
    "    #計算一篇文章的BM25得分\n",
    "    doc2vec = {}\n",
    "    query2vec = [0]*len(qt)\n",
    "    qv_idx = 0\n",
    "    for term, qf in qt.items():\n",
    "        k1 = 1.0\n",
    "        k3 = 1.5\n",
    "        df = inv[term][0]\n",
    "        IDF = math.log((N - df + 0.5) / (df + 0.5))\n",
    "        if fb == True:\n",
    "            q_m = weight\n",
    "            qf = q_m[qidx][qv_idx]\n",
    "            #QTF = ((k3 + 1) * q_m[qidx][qv_idx]) / (k3 + q_m[qidx][qv_idx])\n",
    "        #else:\n",
    "            #QTF =  ((k3 + 1) * qf) / (k3 + qf)\n",
    "        QTF =  ((k3 + 1) * qf) / (k3 + qf)\n",
    "        for post in inv[term][1:]:\n",
    "            tf = post[1]\n",
    "            doc_id = post[0]\n",
    "            doc_name = file_to_id[doc_id][0]\n",
    "            dl = file_to_id[doc_id][1]\n",
    "            TF_norm =  ((k1 + 1) * tf) / (k1 * (0.25 + 0.75 * dl / avdl) + tf)\n",
    "            score = IDF*TF_norm*QTF\n",
    "            if doc_name not in doc2vec:\n",
    "                doc2vec[doc_name] = [0]*len(qt)\n",
    "            doc2vec[doc_name][qv_idx] = score\n",
    "        query2vec[qv_idx] = qf\n",
    "        qv_idx += 1\n",
    "    return query2vec,doc2vec"
   ]
  },
  {
   "cell_type": "code",
   "execution_count": 5,
   "metadata": {},
   "outputs": [],
   "source": [
    "def rank(doc2vec):\n",
    "    doc2score = {}\n",
    "    for rel_doc,rel_score in doc2vec.items():\n",
    "        doc2score[rel_doc] = sum(rel_score)\n",
    "    rank = pd.DataFrame(pd.Series(doc2score),columns=[\"score\"])\n",
    "    sort = rank.sort_values(by=\"score\",ascending=False)\n",
    "    return sort"
   ]
  },
  {
   "cell_type": "code",
   "execution_count": 6,
   "metadata": {
    "scrolled": false
   },
   "outputs": [],
   "source": [
    "def topk(sort,k=100):\n",
    "    d = sort.index[0]\n",
    "    for i in range(1,k):\n",
    "        d += ' '+ sort.index[i]\n",
    "    return d"
   ]
  },
  {
   "cell_type": "code",
   "execution_count": 7,
   "metadata": {},
   "outputs": [],
   "source": [
    "def feedback(result,query2vec,doc2vec):\n",
    "    thr = 30\n",
    "    alpha, beta, gamma = 0.9, 0.3, 0.2\n",
    "    q_m = []\n",
    "    for i in range(len(result)):\n",
    "        fetched = result.iloc[i][1].split()\n",
    "        D_r = fetched[:thr]\n",
    "        D_n = fetched[-thr:]\n",
    "        origin = np.array(query2vec[i])\n",
    "        docs = doc2vec[i]\n",
    "        d_r = np.zeros(len(origin))\n",
    "        d_n = np.zeros(len(origin))\n",
    "        for dr in D_r:\n",
    "            if docs.__contains__(dr):\n",
    "                d_r += np.array(docs[dr])\n",
    "                #d_r = [x+y for x,y in zip(d_r,docs[dr])]\n",
    "        d_r = d_r/len(D_r)\n",
    "        #d_r = [ x/len(D_r) for x in d_r]\n",
    "        for dn in D_n:\n",
    "            if docs.__contains__(dn):\n",
    "                d_n += np.array(docs[dn])\n",
    "                #d_n = [x+y for x,y in zip(d_n,docs[dn])]\n",
    "        d_n = d_n/len(D_n)\n",
    "        #d_n = [ x/len(D_n) for x in d_n]\n",
    "        q_m.append(alpha*origin + beta*d_r - gamma*d_n)\n",
    "    return q_m"
   ]
  },
  {
   "cell_type": "code",
   "execution_count": 8,
   "metadata": {},
   "outputs": [],
   "source": [
    "def result(query,weight,feedback):\n",
    "    result = {}\n",
    "    doc2vec = []\n",
    "    query2vec = []\n",
    "    for qidx in range(len(query)):\n",
    "        q2v,d2v = vsm(qidx,weight,feedback)\n",
    "        query2vec.append(q2v)\n",
    "        doc2vec.append(d2v)\n",
    "        sort = rank(d2v)\n",
    "        q = query.iloc[qidx]['qid'] \n",
    "        result[q] = topk(sort, 100)\n",
    "    result = pd.DataFrame(pd.Series(result),columns=[\"retrieved_docs\"])\n",
    "    result = result.reset_index().rename(columns = {\"index\":\"query_id\"})\n",
    "    return result,query2vec,doc2vec"
   ]
  },
  {
   "cell_type": "code",
   "execution_count": 9,
   "metadata": {},
   "outputs": [],
   "source": [
    "def adjust(ad_rank, ad_q2v, ad_d2v):\n",
    "    new_weight = feedback(ad_rank,ad_q2v,ad_d2v)\n",
    "    predict,q2v,d2v = result(query = query, weight = new_weight,feedback = True)\n",
    "    return predict,q2v,d2v    "
   ]
  },
  {
   "cell_type": "code",
   "execution_count": 52,
   "metadata": {},
   "outputs": [],
   "source": [
    "def reFB(times,ini_rank,ini_q2v,ini_doc2v):\n",
    "    for i in range(times):\n",
    "        if i == 0:\n",
    "            predict,q2v,d2v = ini_rank,ini_q2v,ini_doc2v \n",
    "        else:\n",
    "            predict,q2v,d2v = adjust(predict, q2v, d2v)\n",
    "            #predict.to_csv(\"predict.csv\",index = 0)\n",
    "            #print(\"MAP@100 = \",MAP())\n",
    "    return predict"
   ]
  },
  {
   "cell_type": "code",
   "execution_count": 60,
   "metadata": {},
   "outputs": [],
   "source": [
    "model_dir = args.m\n",
    "ntcir_dir = args.d\n",
    "query_file = args.i"
   ]
  },
  {
   "cell_type": "code",
   "execution_count": 3,
   "metadata": {},
   "outputs": [],
   "source": [
    "vocab_to_id = parse_vocab_id(model_dir)\n",
    "file_to_id,avdl = parse_doc_id(model_dir,ntcir_dir)\n",
    "inv = parse_inv(model_dir)\n",
    "N = len(file_to_id)"
   ]
  },
  {
   "cell_type": "code",
   "execution_count": 61,
   "metadata": {},
   "outputs": [],
   "source": [
    "query = parse_query(query_file)"
   ]
  },
  {
   "cell_type": "code",
   "execution_count": 62,
   "metadata": {},
   "outputs": [],
   "source": [
    "rel_fb = args.r"
   ]
  },
  {
   "cell_type": "code",
   "execution_count": 63,
   "metadata": {
    "scrolled": true
   },
   "outputs": [],
   "source": [
    "ini_rank,ini_q2v,ini_doc2v = result(query = query, weight = [], feedback = False)\n",
    "if rel_fb == True:\n",
    "    predict = reFB(5,ini_rank,ini_q2v,ini_doc2v)\n",
    "else:\n",
    "    predict = ini_rank"
   ]
  },
  {
   "cell_type": "code",
   "execution_count": 64,
   "metadata": {},
   "outputs": [],
   "source": [
    "predict.to_csv(args.o,index = 0)"
   ]
  },
  {
   "cell_type": "code",
   "execution_count": 5,
   "metadata": {},
   "outputs": [
    {
     "name": "stdout",
     "output_type": "stream",
     "text": [
      "Finish running\n",
      "Dumping ranked-list under ./\n"
     ]
    }
   ],
   "source": [
    "print('Finish running\\nDumping ranked-list under ./')"
   ]
  }
 ],
 "metadata": {
  "kernelspec": {
   "display_name": "Python 3",
   "language": "python",
   "name": "python3"
  },
  "language_info": {
   "codemirror_mode": {
    "name": "ipython",
    "version": 3
   },
   "file_extension": ".py",
   "mimetype": "text/x-python",
   "name": "python",
   "nbconvert_exporter": "python",
   "pygments_lexer": "ipython3",
   "version": "3.7.6"
  }
 },
 "nbformat": 4,
 "nbformat_minor": 4
}
