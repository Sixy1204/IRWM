{
 "cells": [
  {
   "cell_type": "code",
   "execution_count": 2,
   "metadata": {},
   "outputs": [],
   "source": [
    "import warnings\n",
    "warnings.filterwarnings('ignore')"
   ]
  },
  {
   "cell_type": "code",
   "execution_count": 3,
   "metadata": {},
   "outputs": [],
   "source": [
    "import torch\n",
    "import torch.optim as optim\n",
    "from torch.utils.data import DataLoader, SubsetRandomSampler"
   ]
  },
  {
   "cell_type": "code",
   "execution_count": 4,
   "metadata": {},
   "outputs": [],
   "source": [
    "import numpy as np\n",
    "import os\n",
    "import random\n",
    "import pandas as pd"
   ]
  },
  {
   "cell_type": "code",
   "execution_count": 5,
   "metadata": {},
   "outputs": [],
   "source": [
    "from Dataset import Data\n",
    "from bprModel import BPR"
   ]
  },
  {
   "cell_type": "code",
   "execution_count": 6,
   "metadata": {},
   "outputs": [],
   "source": [
    "def load_data():    \n",
    "    df = pd.read_csv('train.csv')\n",
    "    user_items = {}\n",
    "    itemId_max=[]\n",
    "    for i,row in df.iterrows():\n",
    "        user = int(row[0])\n",
    "        user_items[user] = [int(x) for x in row[1].split()]\n",
    "        itemId_max.append(max(user_items[user]))\n",
    "    num_users = max(user_items.keys())+1\n",
    "    num_items = max(itemId_max)+1\n",
    "    return num_users, num_items, user_items"
   ]
  },
  {
   "cell_type": "code",
   "execution_count": 7,
   "metadata": {},
   "outputs": [],
   "source": [
    "user_size, item_size,user_items = load_data()"
   ]
  },
  {
   "cell_type": "code",
   "execution_count": 52,
   "metadata": {},
   "outputs": [],
   "source": [
    "batch_size = 3000\n",
    "epochs = 70\n",
    "embedding_size = 128"
   ]
  },
  {
   "cell_type": "code",
   "execution_count": 9,
   "metadata": {},
   "outputs": [],
   "source": [
    "dataset = Data(user_size, item_size, user_items)"
   ]
  },
  {
   "cell_type": "code",
   "execution_count": 10,
   "metadata": {
    "scrolled": true
   },
   "outputs": [
    {
     "name": "stdout",
     "output_type": "stream",
     "text": [
      "The number of train pairs is 304623\n"
     ]
    }
   ],
   "source": [
    "print('The number of train pairs is %d'%len(dataset.train_pair))"
   ]
  },
  {
   "cell_type": "code",
   "execution_count": 11,
   "metadata": {},
   "outputs": [],
   "source": [
    "loader = DataLoader(dataset, batch_size, shuffle=True)"
   ]
  },
  {
   "cell_type": "code",
   "execution_count": 25,
   "metadata": {
    "scrolled": true
   },
   "outputs": [],
   "source": [
    "dataset = Data(user_size, item_size, user_items)\n",
    "validation_split = 0.1\n",
    "shuffle_dataset = True\n",
    "\n",
    "dataset_size = len(dataset)\n",
    "indices = list(range(dataset_size))\n",
    "split = int(np.floor(validation_split * dataset_size))\n",
    "if shuffle_dataset :\n",
    "    np.random.seed(233)\n",
    "    np.random.shuffle(indices)\n",
    "train_indices, val_indices = indices[split:], indices[:split]\n",
    "\n",
    "# Creating PT data samplers and loaders:\n",
    "train_sampler = SubsetRandomSampler(train_indices)\n",
    "valid_sampler = SubsetRandomSampler(val_indices)\n",
    "\n",
    "train_loader = torch.utils.data.DataLoader(dataset, batch_size=batch_size, \n",
    "                                           sampler=train_sampler)\n",
    "validation_loader = torch.utils.data.DataLoader(dataset, batch_size=batch_size,\n",
    "                                                sampler=valid_sampler)\n",
    "data_loaders = {\"train\": train_loader, \"val\": validation_loader}\n",
    "data_lengths = {\"train\": len(train_indices), \"val\": len(val_indices)}"
   ]
  },
  {
   "cell_type": "code",
   "execution_count": 40,
   "metadata": {},
   "outputs": [],
   "source": [
    "def train(loader, model, optimizer, epochs, batch_size, device):\n",
    "\n",
    "    #total_loss = 0.0\n",
    "    #batch_count = 0\n",
    "\n",
    "    for epoch in range(epochs):\n",
    "        train_loss = []\n",
    "        val_loss = []\n",
    "        for phase in ['train', 'val']:\n",
    "            if phase == 'train':\n",
    "                model.train(True)  \n",
    "            else:\n",
    "                model.train(False)  \n",
    "            \n",
    "            model.to(device)\n",
    "            data_loaders[phase].dataset.get_neg()\n",
    "            for batch, (batch_u, batch_i, batch_j) in enumerate(data_loaders[phase]):\n",
    "                \n",
    "                batch_u = batch_u.to(device)\n",
    "                batch_i = batch_i.to(device)\n",
    "                batch_j = batch_j.to(device)\n",
    "            \n",
    "                loss = model(batch_u, batch_i, batch_j)\n",
    "                \n",
    "                optimizer.zero_grad()\n",
    "                if phase == 'train':\n",
    "                    loss.backward()\n",
    "                    optimizer.step()\n",
    "                    train_loss.append(loss.data)\n",
    "                else:\n",
    "                    val_loss.append(loss.data)\n",
    "                \n",
    "                #batch_count += 1\n",
    "                #total_loss += loss.data\n",
    "\n",
    "                #avg_loss = total_loss / batch_count\n",
    "            \n",
    "            \n",
    "        print(f\"Training Epoch : {epoch} | Train Loss = {np.mean(train_loss)/batch_size:.4f} | Val Loss = {np.mean(val_loss)/batch_size:.4f}\\n\")\n",
    "                       "
   ]
  },
  {
   "cell_type": "code",
   "execution_count": 13,
   "metadata": {},
   "outputs": [],
   "source": [
    "def _eval(model, test_pos, test_sample):\n",
    "    \n",
    "    model.eval()\n",
    "    result = model.predict(test_sample)\n",
    "    num_users = result.shape[0]\n",
    "\n",
    "    hit = 0\n",
    "    ndcg = 0\n",
    "\n",
    "    for i in range(num_users):\n",
    "        \n",
    "        retrieve_items = list(result[i])\n",
    "        label = test_pos[i]\n",
    "\n",
    "        if label in retrieve_items:\n",
    "            hit += 1\n",
    "            ndcg += (1 / math.log(retrieve_items.index(label)+2,2))\n",
    "\n",
    "    return (hit / num_users), (ndcg / num_users)"
   ]
  },
  {
   "cell_type": "code",
   "execution_count": 18,
   "metadata": {},
   "outputs": [],
   "source": [
    "use_cuda = torch.cuda.is_available()\n",
    "device = torch.device(\"cuda:0\" if use_cuda else \"cpu\")"
   ]
  },
  {
   "cell_type": "code",
   "execution_count": 19,
   "metadata": {},
   "outputs": [],
   "source": [
    "model = BPR(user_size, item_size, embedding_size, batch_size, device)"
   ]
  },
  {
   "cell_type": "code",
   "execution_count": 20,
   "metadata": {},
   "outputs": [],
   "source": [
    "optimizer = optim.Adam(model.parameters(), lr=0.001, weight_decay=0.0001)"
   ]
  },
  {
   "cell_type": "code",
   "execution_count": null,
   "metadata": {
    "scrolled": false
   },
   "outputs": [
    {
     "name": "stdout",
     "output_type": "stream",
     "text": [
      "Training Epoch : 0 | Train Loss = 0.0606 | Val Loss = 0.1498\n",
      "\n",
      "Training Epoch : 1 | Train Loss = 0.0591 | Val Loss = 0.1450\n",
      "\n",
      "Training Epoch : 2 | Train Loss = 0.0576 | Val Loss = 0.1442\n",
      "\n",
      "Training Epoch : 3 | Train Loss = 0.0570 | Val Loss = 0.1445\n",
      "\n",
      "Training Epoch : 4 | Train Loss = 0.0556 | Val Loss = 0.1452\n",
      "\n",
      "Training Epoch : 5 | Train Loss = 0.0557 | Val Loss = 0.1477\n",
      "\n",
      "Training Epoch : 6 | Train Loss = 0.0540 | Val Loss = 0.1446\n",
      "\n",
      "Training Epoch : 7 | Train Loss = 0.0540 | Val Loss = 0.1452\n",
      "\n",
      "Training Epoch : 8 | Train Loss = 0.0528 | Val Loss = 0.1489\n",
      "\n",
      "Training Epoch : 9 | Train Loss = 0.0508 | Val Loss = 0.1493\n",
      "\n",
      "Training Epoch : 10 | Train Loss = 0.0510 | Val Loss = 0.1463\n",
      "\n",
      "Training Epoch : 11 | Train Loss = 0.0494 | Val Loss = 0.1459\n",
      "\n",
      "Training Epoch : 12 | Train Loss = 0.0497 | Val Loss = 0.1457\n",
      "\n",
      "Training Epoch : 13 | Train Loss = 0.0484 | Val Loss = 0.1457\n",
      "\n",
      "Training Epoch : 14 | Train Loss = 0.0475 | Val Loss = 0.1450\n",
      "\n",
      "Training Epoch : 15 | Train Loss = 0.0469 | Val Loss = 0.1491\n",
      "\n",
      "Training Epoch : 16 | Train Loss = 0.0465 | Val Loss = 0.1508\n",
      "\n",
      "Training Epoch : 17 | Train Loss = 0.0453 | Val Loss = 0.1489\n",
      "\n",
      "Training Epoch : 18 | Train Loss = 0.0447 | Val Loss = 0.1480\n",
      "\n",
      "Training Epoch : 19 | Train Loss = 0.0443 | Val Loss = 0.1496\n",
      "\n",
      "Training Epoch : 20 | Train Loss = 0.0439 | Val Loss = 0.1466\n",
      "\n",
      "Training Epoch : 21 | Train Loss = 0.0434 | Val Loss = 0.1493\n",
      "\n"
     ]
    }
   ],
   "source": [
    "train(loader, model, optimizer, epochs, batch_size, device)"
   ]
  },
  {
   "cell_type": "code",
   "execution_count": 42,
   "metadata": {},
   "outputs": [],
   "source": [
    "w = list(model.parameters())"
   ]
  },
  {
   "cell_type": "code",
   "execution_count": 43,
   "metadata": {
    "scrolled": true
   },
   "outputs": [],
   "source": [
    "user = w[0].detach().numpy()"
   ]
  },
  {
   "cell_type": "code",
   "execution_count": 44,
   "metadata": {},
   "outputs": [],
   "source": [
    "item =  w[1].detach().numpy()"
   ]
  },
  {
   "cell_type": "code",
   "execution_count": 45,
   "metadata": {},
   "outputs": [],
   "source": [
    "interaction = np.dot(user,item.T)"
   ]
  },
  {
   "cell_type": "code",
   "execution_count": 46,
   "metadata": {},
   "outputs": [],
   "source": [
    "predict = pd.DataFrame(columns=['UserId','ItemId'])"
   ]
  },
  {
   "cell_type": "code",
   "execution_count": 47,
   "metadata": {},
   "outputs": [],
   "source": [
    "for uid, items in enumerate(interaction):\n",
    "    for i in user_items[uid]:\n",
    "        items[i] = -99\n",
    "    topk = np.argsort(-items)[:50]\n",
    "    predict.loc[uid,'UserId'] = uid\n",
    "    predict.loc[uid,'ItemId'] = ' '.join([str(x) for x in topk])"
   ]
  },
  {
   "cell_type": "code",
   "execution_count": 48,
   "metadata": {
    "scrolled": true
   },
   "outputs": [
    {
     "data": {
      "text/plain": [
       "UserId                                                    0\n",
       "ItemId    1020 2455 1575 496 259 865 1868 2885 1281 2411...\n",
       "Name: 0, dtype: object"
      ]
     },
     "execution_count": 48,
     "metadata": {},
     "output_type": "execute_result"
    }
   ],
   "source": [
    "predict.iloc[0]"
   ]
  },
  {
   "cell_type": "code",
   "execution_count": 49,
   "metadata": {},
   "outputs": [
    {
     "data": {
      "text/plain": [
       "(4454, 2)"
      ]
     },
     "execution_count": 49,
     "metadata": {},
     "output_type": "execute_result"
    }
   ],
   "source": [
    "predict.shape"
   ]
  },
  {
   "cell_type": "code",
   "execution_count": 50,
   "metadata": {},
   "outputs": [],
   "source": [
    "predict.to_csv('submit_612.csv',index = 0)"
   ]
  }
 ],
 "metadata": {
  "kernelspec": {
   "display_name": "Python 3",
   "language": "python",
   "name": "python3"
  },
  "language_info": {
   "codemirror_mode": {
    "name": "ipython",
    "version": 3
   },
   "file_extension": ".py",
   "mimetype": "text/x-python",
   "name": "python",
   "nbconvert_exporter": "python",
   "pygments_lexer": "ipython3",
   "version": "3.6.10"
  }
 },
 "nbformat": 4,
 "nbformat_minor": 4
}
