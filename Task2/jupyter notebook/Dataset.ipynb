{
 "cells": [
  {
   "cell_type": "code",
   "execution_count": 52,
   "metadata": {},
   "outputs": [],
   "source": [
    "from torch.utils.data import Dataset\n",
    "import random"
   ]
  },
  {
   "cell_type": "code",
   "execution_count": 55,
   "metadata": {},
   "outputs": [],
   "source": [
    "class Data(Dataset):\n",
    "    def __init__(self, user_size, item_size, user_items):\n",
    "        self.user_size = user_size\n",
    "        self.item_size = item_size\n",
    "        self.user_items = user_items\n",
    "        self.test_pos = self.test_pos()\n",
    "        self.train_list, self.train_pair = self.train()\n",
    "        \n",
    "    def get_neg(self):\n",
    "        \n",
    "        self.input_data = []\n",
    "        for u, i in self.train_pair:\n",
    "            j = np.random.randint(self.item_size)\n",
    "        \n",
    "            while j in self.train_list[u]:\n",
    "                j = np.random.randint(self.item_size)\n",
    "            self.input_data.append([u, i, j]) \n",
    "\n",
    "    def __getitem__(self, index):\n",
    "        \n",
    "        u, i, j = self.input_data[index]\n",
    "        return u, i, j\n",
    "    \n",
    "    def __len__(self): \n",
    "        return len(self.train_pair)\n",
    "    \n",
    "    def test_pos(self):\n",
    "        user_test = {}\n",
    "        for u,i_list in self.user_items.items():\n",
    "            user_test[u] = random.sample(self.user_items[u],1)[0]\n",
    "        return user_test\n",
    "\n",
    "    def train(self):   \n",
    "        train_list = {}\n",
    "        pair = []\n",
    "        for uid, items in self.user_items.items():\n",
    "            train_i = []\n",
    "            for i in items:\n",
    "                if i != self.test_pos[uid]:\n",
    "                    train_i.append(i)\n",
    "                    pair.append((uid,i))\n",
    "        train_list[uid] = train_i\n",
    "        return train_list,pair\n",
    "\n",
    "    "
   ]
  }
 ],
 "metadata": {
  "kernelspec": {
   "display_name": "Python 3",
   "language": "python",
   "name": "python3"
  },
  "language_info": {
   "codemirror_mode": {
    "name": "ipython",
    "version": 3
   },
   "file_extension": ".py",
   "mimetype": "text/x-python",
   "name": "python",
   "nbconvert_exporter": "python",
   "pygments_lexer": "ipython3",
   "version": "3.6.10"
  }
 },
 "nbformat": 4,
 "nbformat_minor": 4
}
