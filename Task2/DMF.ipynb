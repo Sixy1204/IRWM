{
 "cells": [
  {
   "cell_type": "code",
   "execution_count": 12,
   "metadata": {},
   "outputs": [],
   "source": [
    "import warnings\n",
    "warnings.filterwarnings('ignore')"
   ]
  },
  {
   "cell_type": "code",
   "execution_count": 13,
   "metadata": {},
   "outputs": [],
   "source": [
    "import pandas as pd\n",
    "import numpy as np\n",
    "import random\n",
    "from keras.layers import Input, Embedding, Dot, Reshape, Dense\n",
    "from keras.models import Model"
   ]
  },
  {
   "cell_type": "code",
   "execution_count": 14,
   "metadata": {},
   "outputs": [],
   "source": [
    "df = pd.read_csv('train.csv')"
   ]
  },
  {
   "cell_type": "code",
   "execution_count": 15,
   "metadata": {},
   "outputs": [],
   "source": [
    "user_item = pd.DataFrame(columns=['UserId','ItemId'])"
   ]
  },
  {
   "cell_type": "code",
   "execution_count": 16,
   "metadata": {},
   "outputs": [],
   "source": [
    "itemId_max=[]\n",
    "for i,row in df.iterrows():\n",
    "        user_item.loc[i,'UserId'] = int(row[0])\n",
    "        user_item.loc[i,'ItemId'] = [int(x) for x in row[1].split()]\n",
    "        itemId_max.append(max(user_item.loc[i,'ItemId']))"
   ]
  },
  {
   "cell_type": "code",
   "execution_count": 17,
   "metadata": {
    "scrolled": true
   },
   "outputs": [],
   "source": [
    "num_users = max(user_item['UserId']) + 1\n",
    "num_items = max(itemId_max) + 1"
   ]
  },
  {
   "cell_type": "code",
   "execution_count": 18,
   "metadata": {
    "scrolled": true
   },
   "outputs": [
    {
     "name": "stdout",
     "output_type": "stream",
     "text": [
      "4454 3260\n"
     ]
    }
   ],
   "source": [
    "print(num_users,num_items)"
   ]
  },
  {
   "cell_type": "code",
   "execution_count": 19,
   "metadata": {},
   "outputs": [],
   "source": [
    "'''\n",
    "sample positive pairs (uid, item_pos)in a list\n",
    "'''\n",
    "def create_pairs(user_item, uid):\n",
    "    pairs = []\n",
    "    def u2i(pairs, x):\n",
    "        for index in x[\"ItemId\"]:\n",
    "            pairs.append((uid[x[\"UserId\"]], index))\n",
    "    user_item.apply(lambda x: u2i(pairs, x), axis=1) \n",
    "    return pairs"
   ]
  },
  {
   "cell_type": "code",
   "execution_count": 20,
   "metadata": {},
   "outputs": [],
   "source": [
    "pairs = create_pairs(user_item, user_item['UserId'])"
   ]
  },
  {
   "cell_type": "code",
   "execution_count": 22,
   "metadata": {
    "scrolled": true
   },
   "outputs": [],
   "source": [
    "def embedding_model(d):\n",
    "    user = Input(name = 'user', shape = [1])\n",
    "    item = Input(name = 'item', shape = [1])\n",
    "    \n",
    "    user_embedding = Embedding(name = 'user_embedding',\n",
    "                               input_dim = num_users,\n",
    "                               output_dim = d)(user)\n",
    "    \n",
    "    item_embedding = Embedding(name = 'item_embedding',\n",
    "                               input_dim = num_items,\n",
    "                               output_dim = d)(item)\n",
    "    \n",
    "    merged = Dot(name = 'dot_product', normalize = True,\n",
    "                 axes = 2)([user_embedding, item_embedding])\n",
    "\n",
    "    merged = Reshape(target_shape = [1])(merged)\n",
    "    \n",
    "    out = Dense(1, activation = 'sigmoid')(merged)\n",
    "    model = Model(inputs = [user, item], outputs = out)\n",
    "    \n",
    "    model.compile(optimizer = 'Adam', loss = 'binary_crossentropy', \n",
    "                  metrics = ['accuracy'])"
   ]
  },
  {
   "cell_type": "code",
   "execution_count": 128,
   "metadata": {},
   "outputs": [],
   "source": [
    "def generate_batch(pairs, n_positive = 50, negative_ratio = 1.0):\n",
    "    batch_size = n_positive * (1 + negative_ratio)\n",
    "    batch = np.zeros((batch_size, 3))\n",
    "    \n",
    "    while True:\n",
    "        # Randomly choose positive examples\n",
    "        for idx, (uid, item) in enumerate(random.sample(pairs, n_positive)):\n",
    "            batch[idx, :] = (uid, item, 1)\n",
    "        idx += 1\n",
    "        \n",
    "        while idx < batch_size:\n",
    "            random_user = random.randrange(num_users)\n",
    "            random_item = random.randrange(num_items)\n",
    "            # Check \n",
    "            if (random_user, random_item) not in pairs:\n",
    "                batch[idx, :] = (random_user, random_item, 0)\n",
    "                idx += 1\n",
    "                \n",
    "        # Make sure to shuffle order\n",
    "        np.random.shuffle(batch)\n",
    "        yield {'user': batch[:, 0], 'item': batch[:, 1]}, batch[:, 2]\n",
    "        \n",
    "        \n",
    "n_positive = 100\n",
    "gen = generate_batch(pairs, n_positive, negative_ratio = 1)"
   ]
  },
  {
   "cell_type": "code",
   "execution_count": null,
   "metadata": {},
   "outputs": [
    {
     "name": "stdout",
     "output_type": "stream",
     "text": [
      "Epoch 1/50\n",
      " 22/100 [=====>........................] - ETA: 47s - loss: 0.3887 - acc: 0.8332"
     ]
    }
   ],
   "source": [
    "h = model.fit_generator(gen, epochs = 50, steps_per_epoch = 100)"
   ]
  },
  {
   "cell_type": "code",
   "execution_count": 47,
   "metadata": {
    "scrolled": true
   },
   "outputs": [],
   "source": [
    "# Extract embeddings\n",
    "user_layer = model.get_layer('user_embedding')\n",
    "user_weights = user_layer.get_weights()[0]\n",
    "\n",
    "item_layer = model.get_layer('item_embedding')\n",
    "item_weights = item_layer.get_weights()[0]"
   ]
  },
  {
   "cell_type": "code",
   "execution_count": 54,
   "metadata": {},
   "outputs": [
    {
     "data": {
      "text/plain": [
       "(16, 3260)"
      ]
     },
     "execution_count": 54,
     "metadata": {},
     "output_type": "execute_result"
    }
   ],
   "source": [
    "item_weights.transpose().shape"
   ]
  },
  {
   "cell_type": "code",
   "execution_count": 56,
   "metadata": {},
   "outputs": [],
   "source": [
    "interaction = np.dot(user_weights , (item_weights.transpose()))"
   ]
  },
  {
   "cell_type": "code",
   "execution_count": 103,
   "metadata": {
    "scrolled": true
   },
   "outputs": [
    {
     "data": {
      "text/plain": [
       "array([[-0.01998005,  0.03016901,  0.0233435 , ..., -0.01276927,\n",
       "         0.00666837,  0.01780169],\n",
       "       [-0.01826091,  0.02647628,  0.01956011, ..., -0.00977426,\n",
       "        -0.01865245,  0.01004048],\n",
       "       [ 0.00088986,  0.02801954,  0.01665373, ..., -0.01260041,\n",
       "        -0.01637273,  0.00912771],\n",
       "       ...,\n",
       "       [-0.01146379,  0.0143792 ,  0.01497279, ..., -0.00099296,\n",
       "         0.03634408,  0.01406114],\n",
       "       [ 0.01137945, -0.00259708,  0.00869207, ..., -0.00446177,\n",
       "        -0.00938249, -0.01496035],\n",
       "       [ 0.00028576,  0.0355996 ,  0.03149754, ..., -0.02117245,\n",
       "        -0.003986  ,  0.00259786]], dtype=float32)"
      ]
     },
     "execution_count": 103,
     "metadata": {},
     "output_type": "execute_result"
    }
   ],
   "source": [
    "interaction"
   ]
  },
  {
   "cell_type": "code",
   "execution_count": 104,
   "metadata": {},
   "outputs": [],
   "source": [
    "predict = pd.DataFrame(columns=['UserId','ItemId'])"
   ]
  },
  {
   "cell_type": "code",
   "execution_count": 120,
   "metadata": {},
   "outputs": [],
   "source": [
    "for uid, items in enumerate(interaction):\n",
    "    for i in user_item.iloc[uid][1]:\n",
    "        items[i] = -99\n",
    "    topk = np.argsort(-items)[:50]\n",
    "    predict.loc[uid,'UserId'] = uid\n",
    "    predict.loc[uid,'ItemId'] = ' '.join([str(x) for x in topk])"
   ]
  },
  {
   "cell_type": "code",
   "execution_count": 123,
   "metadata": {},
   "outputs": [],
   "source": [
    "predict.to_csv('submit.csv',index = 0)"
   ]
  }
 ],
 "metadata": {
  "kernelspec": {
   "display_name": "Python 3",
   "language": "python",
   "name": "python3"
  },
  "language_info": {
   "codemirror_mode": {
    "name": "ipython",
    "version": 3
   },
   "file_extension": ".py",
   "mimetype": "text/x-python",
   "name": "python",
   "nbconvert_exporter": "python",
   "pygments_lexer": "ipython3",
   "version": "3.6.10"
  }
 },
 "nbformat": 4,
 "nbformat_minor": 4
}
