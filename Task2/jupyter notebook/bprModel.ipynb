{
 "cells": [
  {
   "cell_type": "code",
   "execution_count": 1,
   "metadata": {},
   "outputs": [],
   "source": [
    "import torch.nn as nn"
   ]
  },
  {
   "cell_type": "code",
   "execution_count": 4,
   "metadata": {},
   "outputs": [],
   "source": [
    "class BPR(nn.Module):\n",
    "    def __init__(self, user_size, item_size, embedding_size, batch_size, device):\n",
    "        super(BPR, self).__init__()\n",
    "        self.user_matrix = nn.Embedding(user_size, embedding_size)\n",
    "        self.item_matrix = nn.Embedding(item_size, embedding_size)\n",
    "        \n",
    "        nn.init.normal_(self.user_matrix.weight, std=0.01)\n",
    "        nn.init.normal_(self.item_matrix.weight, std=0.01)\n",
    "\n",
    "        \n",
    "        self.batch = batch_size\n",
    "        self.device = device\n",
    "\n",
    "    def forward(self, u, i, j):\n",
    "\n",
    "        ui = torch.mul(self.user_matrix(u), self.item_matrix(i)).sum(dim=1)\n",
    "        uj = torch.mul(self.user_matrix(u), self.item_matrix(j)).sum(dim=1)\n",
    "        \n",
    "        loss = -torch.log(torch.sigmoid(ui - uj)).sum()\n",
    "        \n",
    "        return loss"
   ]
  }
 ],
 "metadata": {
  "kernelspec": {
   "display_name": "Python 3",
   "language": "python",
   "name": "python3"
  },
  "language_info": {
   "codemirror_mode": {
    "name": "ipython",
    "version": 3
   },
   "file_extension": ".py",
   "mimetype": "text/x-python",
   "name": "python",
   "nbconvert_exporter": "python",
   "pygments_lexer": "ipython3",
   "version": "3.6.10"
  }
 },
 "nbformat": 4,
 "nbformat_minor": 4
}
